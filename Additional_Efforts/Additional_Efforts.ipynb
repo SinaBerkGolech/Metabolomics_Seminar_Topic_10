{
 "cells": [
  {
   "cell_type": "code",
   "execution_count": 1,
   "id": "0d42af60-d249-46a3-a868-343bce28aeb1",
   "metadata": {
    "execution": {
     "iopub.execute_input": "2024-02-29T17:35:41.361077Z",
     "iopub.status.busy": "2024-02-29T17:35:41.359909Z",
     "iopub.status.idle": "2024-02-29T17:35:42.259992Z",
     "shell.execute_reply": "2024-02-29T17:35:42.258588Z",
     "shell.execute_reply.started": "2024-02-29T17:35:41.360975Z"
    },
    "ExecuteTime": {
     "end_time": "2024-03-01T15:18:34.085844Z",
     "start_time": "2024-03-01T15:18:32.299428Z"
    }
   },
   "outputs": [],
   "source": [
    "import numpy as np\n",
    "import pandas as pd\n",
    "from pandas import DataFrame"
   ]
  },
  {
   "cell_type": "code",
   "execution_count": 2,
   "id": "67ec9338-9eec-4796-a8b7-15b6df9e8708",
   "metadata": {
    "execution": {
     "iopub.execute_input": "2024-02-29T17:35:59.536431Z",
     "iopub.status.busy": "2024-02-29T17:35:59.535702Z",
     "iopub.status.idle": "2024-02-29T17:36:02.301691Z",
     "shell.execute_reply": "2024-02-29T17:36:02.300718Z",
     "shell.execute_reply.started": "2024-02-29T17:35:59.536382Z"
    },
    "ExecuteTime": {
     "end_time": "2024-03-01T15:18:37.793872Z",
     "start_time": "2024-03-01T15:18:34.102613Z"
    }
   },
   "outputs": [],
   "source": [
    "STable1: DataFrame = pd.read_csv(\"STable1_all_genomes_info.tsv\", sep=\"|\")\n",
    "STable2: DataFrame = pd.read_csv(\"STable2_BiG-SLICE_t0.4_GCF_assignment.csv\", sep=\",\")\n",
    "STable3: DataFrame = pd.read_csv(\"STable3_BiG-SLICE_t0.5_GCF_assignment.csv\", sep=\",\")\n",
    "STable4: DataFrame = pd.read_csv(\"STable4_BiG-SLICE_t0.6_GCF_assignment.csv\", sep=\",\")\n",
    "STable5: DataFrame = pd.read_csv(\"STable5_BiG-SLICE_t0.7_GCF_assignment.csv\", sep=\",\")"
   ]
  },
  {
   "cell_type": "code",
   "execution_count": 3,
   "id": "1844f796-a692-4ee4-81a2-eff8f1e05074",
   "metadata": {
    "execution": {
     "iopub.execute_input": "2024-02-29T17:36:03.142440Z",
     "iopub.status.busy": "2024-02-29T17:36:03.140467Z",
     "iopub.status.idle": "2024-02-29T17:36:03.257848Z",
     "shell.execute_reply": "2024-02-29T17:36:03.256108Z",
     "shell.execute_reply.started": "2024-02-29T17:36:03.142361Z"
    },
    "ExecuteTime": {
     "end_time": "2024-03-01T15:18:37.918185Z",
     "start_time": "2024-03-01T15:18:37.796881Z"
    }
   },
   "outputs": [],
   "source": [
    "thresholds_4_gcfs: np.ndarray = np.array(STable2.gcf_id.unique())\n",
    "thresholds_5_gcfs: np.ndarray = np.array(STable3.gcf_id.unique())\n",
    "thresholds_6_gcfs: np.ndarray = np.array(STable4.gcf_id.unique())\n",
    "thresholds_7_gcfs: np.ndarray = np.array(STable5.gcf_id.unique())"
   ]
  },
  {
   "cell_type": "code",
   "outputs": [],
   "source": [
    "bgc_ids: DataFrame = STable1.bgc_ids.str.split(\",\", expand=True)\n",
    "bgc_ids = (bgc_ids.apply(pd.to_numeric, downcast=\"unsigned\"))\n",
    "bgc_ids[[\"dataset_name\", \"AccNo\", \"taxonomy\"]] = STable1[[\"dataset_name\", \"AccNo\", \"taxonomy\"]]"
   ],
   "metadata": {
    "collapsed": false,
    "ExecuteTime": {
     "end_time": "2024-03-01T15:18:46.493399Z",
     "start_time": "2024-03-01T15:18:37.925951Z"
    }
   },
   "id": "e7ba220a159fd21",
   "execution_count": 4
  },
  {
   "cell_type": "code",
   "outputs": [],
   "source": [
    "STable2[\"bgc_id\"] = STable2[\"bgc_id\"].astype(np.int64)"
   ],
   "metadata": {
    "collapsed": false,
    "ExecuteTime": {
     "end_time": "2024-03-01T15:18:46.559270Z",
     "start_time": "2024-03-01T15:18:46.501104Z"
    }
   },
   "id": "e95579b2f82abe8d",
   "execution_count": 5
  },
  {
   "cell_type": "code",
   "outputs": [],
   "source": [
    "STable2.index = STable2[\"bgc_id\"]\n",
    "STable2[\"taxonomy\"] = \"\""
   ],
   "metadata": {
    "collapsed": false,
    "ExecuteTime": {
     "end_time": "2024-03-01T15:18:46.582737Z",
     "start_time": "2024-03-01T15:18:46.563339Z"
    }
   },
   "id": "5013434225ab45ec",
   "execution_count": 6
  },
  {
   "cell_type": "code",
   "outputs": [
    {
     "name": "stdout",
     "output_type": "stream",
     "text": [
      "INFO: Pandarallel will run on 4 workers.\n",
      "INFO: Pandarallel will use standard multiprocessing data transfer (pipe) to transfer data between the main process and workers.\n"
     ]
    }
   ],
   "source": [
    "from functools import lru_cache\n",
    "from pandarallel import pandarallel\n",
    "import os\n",
    "pandarallel.initialize(nb_workers=os.cpu_count())\n",
    "def add_taxonomy_to_table(gcfs_array: np.ndarray, stable: DataFrame) -> None:\n",
    "    # print(type(gcfs_array))\n",
    "    # print(gcfs_array[5])\n",
    "    for gcf in gcfs_array:\n",
    "        # print(f\"gcf{gcf}\\n\")\n",
    "        bgc_ids_of_gcf: np.ndarray = np.array(STable2[STable2.gcf_id == gcf][\"bgc_id\"])\n",
    "        for bgc_id in bgc_ids_of_gcf:\n",
    "            # print(f\"bgc_id{bgc_id}\\n\")\n",
    "            # print(f\"type(bgc_id{type(bgc_id)}\\n\")\n",
    "            bgc_tax = bgc_ids[bgc_ids.eq(bgc_id).any(axis=\"columns\")][\"taxonomy\"].iloc[0]\n",
    "            stable.loc[bgc_id, \"taxonomy\"] = bgc_tax"
   ],
   "metadata": {
    "collapsed": false,
    "ExecuteTime": {
     "end_time": "2024-03-01T15:18:46.726053Z",
     "start_time": "2024-03-01T15:18:46.588559Z"
    }
   },
   "id": "9fe024e8b53c0d3e",
   "execution_count": 7
  },
  {
   "cell_type": "code",
   "outputs": [],
   "source": [
    "#add_taxonomy_to_table = np.vectorize(add_taxonomy_to_table)\n",
    "\n",
    "add_taxonomy_to_table(gcfs_array = thresholds_4_gcfs[-10:], stable = STable2)"
   ],
   "metadata": {
    "collapsed": false,
    "ExecuteTime": {
     "end_time": "2024-03-01T15:19:06.018853Z",
     "start_time": "2024-03-01T15:18:46.742266Z"
    }
   },
   "id": "86c9233fdc85c78c",
   "execution_count": 8
  },
  {
   "cell_type": "code",
   "outputs": [
    {
     "data": {
      "text/plain": "          bgc_id  gcf_id  feature_to_centroid_distance  \\\nbgc_id                                                   \n1318457  1318457   73245                      0.000000   \n1318445  1318445   74585                      0.000000   \n1318508  1318508   68629                      0.000000   \n1318428  1318428   69139                      0.000000   \n1318426  1318426   70750                      0.000000   \n...          ...     ...                           ...   \n399406    399406   11705                      0.007830   \n399405    399405   39830                      0.031746   \n399404    399404   43972                      0.018364   \n399403    399403   42326                      0.010878   \n1318552  1318552   24351                      0.540062   \n\n                                                  taxonomy  \nbgc_id                                                      \n1318457  Bacteria,Proteobacteria,Alphaproteobacteria,Sp...  \n1318445  Bacteria,Proteobacteria,Alphaproteobacteria,Az...  \n1318508  Bacteria,Planctomycetota,Planctomycetes,Pirell...  \n1318428  Bacteria,Firmicutes,Bacilli,Lactobacillales,Ae...  \n1318426  Bacteria,Firmicutes,Bacilli,Lactobacillales,Ae...  \n...                                                    ...  \n399406                                                      \n399405                                                      \n399404                                                      \n399403                                                      \n1318552                                                     \n\n[1185995 rows x 4 columns]",
      "text/html": "<div>\n<style scoped>\n    .dataframe tbody tr th:only-of-type {\n        vertical-align: middle;\n    }\n\n    .dataframe tbody tr th {\n        vertical-align: top;\n    }\n\n    .dataframe thead th {\n        text-align: right;\n    }\n</style>\n<table border=\"1\" class=\"dataframe\">\n  <thead>\n    <tr style=\"text-align: right;\">\n      <th></th>\n      <th>bgc_id</th>\n      <th>gcf_id</th>\n      <th>feature_to_centroid_distance</th>\n      <th>taxonomy</th>\n    </tr>\n    <tr>\n      <th>bgc_id</th>\n      <th></th>\n      <th></th>\n      <th></th>\n      <th></th>\n    </tr>\n  </thead>\n  <tbody>\n    <tr>\n      <th>1318457</th>\n      <td>1318457</td>\n      <td>73245</td>\n      <td>0.000000</td>\n      <td>Bacteria,Proteobacteria,Alphaproteobacteria,Sp...</td>\n    </tr>\n    <tr>\n      <th>1318445</th>\n      <td>1318445</td>\n      <td>74585</td>\n      <td>0.000000</td>\n      <td>Bacteria,Proteobacteria,Alphaproteobacteria,Az...</td>\n    </tr>\n    <tr>\n      <th>1318508</th>\n      <td>1318508</td>\n      <td>68629</td>\n      <td>0.000000</td>\n      <td>Bacteria,Planctomycetota,Planctomycetes,Pirell...</td>\n    </tr>\n    <tr>\n      <th>1318428</th>\n      <td>1318428</td>\n      <td>69139</td>\n      <td>0.000000</td>\n      <td>Bacteria,Firmicutes,Bacilli,Lactobacillales,Ae...</td>\n    </tr>\n    <tr>\n      <th>1318426</th>\n      <td>1318426</td>\n      <td>70750</td>\n      <td>0.000000</td>\n      <td>Bacteria,Firmicutes,Bacilli,Lactobacillales,Ae...</td>\n    </tr>\n    <tr>\n      <th>...</th>\n      <td>...</td>\n      <td>...</td>\n      <td>...</td>\n      <td>...</td>\n    </tr>\n    <tr>\n      <th>399406</th>\n      <td>399406</td>\n      <td>11705</td>\n      <td>0.007830</td>\n      <td></td>\n    </tr>\n    <tr>\n      <th>399405</th>\n      <td>399405</td>\n      <td>39830</td>\n      <td>0.031746</td>\n      <td></td>\n    </tr>\n    <tr>\n      <th>399404</th>\n      <td>399404</td>\n      <td>43972</td>\n      <td>0.018364</td>\n      <td></td>\n    </tr>\n    <tr>\n      <th>399403</th>\n      <td>399403</td>\n      <td>42326</td>\n      <td>0.010878</td>\n      <td></td>\n    </tr>\n    <tr>\n      <th>1318552</th>\n      <td>1318552</td>\n      <td>24351</td>\n      <td>0.540062</td>\n      <td></td>\n    </tr>\n  </tbody>\n</table>\n<p>1185995 rows × 4 columns</p>\n</div>"
     },
     "execution_count": 9,
     "metadata": {},
     "output_type": "execute_result"
    }
   ],
   "source": [
    "STable2.sort_values(\"taxonomy\",ascending=False)"
   ],
   "metadata": {
    "collapsed": false,
    "ExecuteTime": {
     "end_time": "2024-03-01T15:19:07.101973Z",
     "start_time": "2024-03-01T15:19:06.027829Z"
    }
   },
   "id": "8e23b7d754a2276b",
   "execution_count": 9
  },
  {
   "cell_type": "markdown",
   "source": [
    "# END OF ADDITIONAL EFFORTS"
   ],
   "metadata": {
    "collapsed": false
   },
   "id": "b2c7c600cc2e05e3"
  }
 ],
 "metadata": {
  "kernelspec": {
   "display_name": "Python 3 (ipykernel)",
   "language": "python",
   "name": "python3"
  },
  "language_info": {
   "codemirror_mode": {
    "name": "ipython",
    "version": 3
   },
   "file_extension": ".py",
   "mimetype": "text/x-python",
   "name": "python",
   "nbconvert_exporter": "python",
   "pygments_lexer": "ipython3",
   "version": "3.9.18"
  },
  "widgets": {
   "application/vnd.jupyter.widget-state+json": {
    "state": {},
    "version_major": 2,
    "version_minor": 0
   }
  }
 },
 "nbformat": 4,
 "nbformat_minor": 5
}
