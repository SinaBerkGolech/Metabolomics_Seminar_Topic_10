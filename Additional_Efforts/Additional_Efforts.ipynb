{
 "cells": [
  {
   "cell_type": "code",
   "execution_count": 1,
   "id": "0d42af60-d249-46a3-a868-343bce28aeb1",
   "metadata": {
    "ExecuteTime": {
     "end_time": "2024-03-01T17:46:55.179652Z",
     "start_time": "2024-03-01T17:46:52.723404Z"
    }
   },
   "outputs": [],
   "source": [
    "import numpy as np\n",
    "import pandas as pd\n",
    "from pandas import DataFrame"
   ]
  },
  {
   "cell_type": "code",
   "execution_count": 2,
   "id": "67ec9338-9eec-4796-a8b7-15b6df9e8708",
   "metadata": {
    "ExecuteTime": {
     "end_time": "2024-03-01T17:47:09.075825Z",
     "start_time": "2024-03-01T17:47:02.256137Z"
    }
   },
   "outputs": [],
   "source": [
    "STable1: DataFrame = pd.read_csv(\"STable1_all_genomes_info.tsv\", sep=\"|\")\n",
    "STable2: DataFrame = pd.read_csv(\"STable2_BiG-SLICE_t0.4_GCF_assignment.csv\", sep=\",\")\n",
    "STable3: DataFrame = pd.read_csv(\"STable3_BiG-SLICE_t0.5_GCF_assignment.csv\", sep=\",\")\n",
    "STable4: DataFrame = pd.read_csv(\"STable4_BiG-SLICE_t0.6_GCF_assignment.csv\", sep=\",\")\n",
    "STable5: DataFrame = pd.read_csv(\"STable5_BiG-SLICE_t0.7_GCF_assignment.csv\", sep=\",\")"
   ]
  },
  {
   "cell_type": "code",
   "execution_count": 3,
   "id": "cf3251c1-844d-4077-a3d6-6491d6c62579",
   "metadata": {},
   "outputs": [
    {
     "data": {
      "text/plain": [
       "gcf_id\n",
       "57228    1074\n",
       "49265     786\n",
       "45969     687\n",
       "42802     672\n",
       "883       592\n",
       "         ... \n",
       "63864       1\n",
       "33437       1\n",
       "37103       1\n",
       "26535       1\n",
       "4696        1\n",
       "Name: count, Length: 8930, dtype: int64"
      ]
     },
     "execution_count": 3,
     "metadata": {},
     "output_type": "execute_result"
    }
   ],
   "source": [
    "STable1 = STable1.rename(columns={\"bgc_ids\":\"bgc_id\"})\n",
    "\n",
    "STable1[\"bgc_id\"] =  STable1.bgc_id.str.split(\",\")\n",
    "\n",
    "STable1 = STable1.explode(column=\"bgc_id\").reset_index(drop=True)\n",
    "\n",
    "STable1[\"bgc_id\"] = STable1.bgc_id.astype(\"int64\")\n",
    "\n",
    "thresholds_4_gcfs = pd.merge(STable1, STable2, on='bgc_id')\n",
    "\n",
    "taxonomy = thresholds_4_gcfs.taxonomy.str.split(\",\",expand=True).fillna(\"\")\n",
    "\n",
    "streptomyces_index = taxonomy[taxonomy[5].str.startswith(\"Streptomyces\")].index\n",
    "\n",
    "thresholds_4_gcfs.loc[streptomyces_index].gcf_id.value_counts()"
   ]
  },
  {
   "cell_type": "code",
   "execution_count": 4,
   "id": "339fecfb",
   "metadata": {},
   "outputs": [
    {
     "data": {
      "text/plain": [
       "gcf_id\n",
       "40575    2243\n",
       "32610    1383\n",
       "2288      661\n",
       "584       596\n",
       "12007     588\n",
       "         ... \n",
       "47241       1\n",
       "29004       1\n",
       "34112       1\n",
       "5342        1\n",
       "42805       1\n",
       "Name: count, Length: 6980, dtype: int64"
      ]
     },
     "execution_count": 4,
     "metadata": {},
     "output_type": "execute_result"
    }
   ],
   "source": [
    "thresholds_5_gcfs = pd.merge(STable1, STable3, on='bgc_id')\n",
    "\n",
    "taxonomy_5 = thresholds_5_gcfs.taxonomy.str.split(\",\",expand=True).fillna(\"\")\n",
    "streptomyces_index_5 = taxonomy_5[taxonomy_5[5].str.startswith(\"Streptomyces\")].index\n",
    "\n",
    "thresholds_5_gcfs.loc[streptomyces_index_5].gcf_id.value_counts()"
   ]
  },
  {
   "cell_type": "code",
   "execution_count": 5,
   "id": "b1f0a246",
   "metadata": {},
   "outputs": [
    {
     "data": {
      "text/plain": [
       "gcf_id\n",
       "31953    1989\n",
       "22441    1939\n",
       "2101     1482\n",
       "18765    1482\n",
       "1488     1362\n",
       "         ... \n",
       "9010        1\n",
       "15161       1\n",
       "14992       1\n",
       "31676       1\n",
       "31238       1\n",
       "Name: count, Length: 5280, dtype: int64"
      ]
     },
     "execution_count": 5,
     "metadata": {},
     "output_type": "execute_result"
    }
   ],
   "source": [
    "thresholds_6_gcfs = pd.merge(STable1, STable4, on='bgc_id')\n",
    "\n",
    "taxonomy_6 = thresholds_6_gcfs.taxonomy.str.split(\",\",expand=True).fillna(\"\")\n",
    "streptomyces_index_6 = taxonomy_6[taxonomy_6[5].str.startswith(\"Streptomyces\")].index\n",
    "\n",
    "thresholds_6_gcfs.loc[streptomyces_index_6].gcf_id.value_counts()"
   ]
  },
  {
   "cell_type": "code",
   "execution_count": 6,
   "id": "d5dada3b",
   "metadata": {},
   "outputs": [
    {
     "data": {
      "text/plain": [
       "gcf_id\n",
       "9710     3978\n",
       "3703     2422\n",
       "15483    1630\n",
       "1951     1495\n",
       "12708    1482\n",
       "         ... \n",
       "22647       1\n",
       "2083        1\n",
       "17759       1\n",
       "17890       1\n",
       "19295       1\n",
       "Name: count, Length: 3464, dtype: int64"
      ]
     },
     "execution_count": 6,
     "metadata": {},
     "output_type": "execute_result"
    }
   ],
   "source": [
    "thresholds_7_gcfs = pd.merge(STable1, STable5, on='bgc_id')\n",
    "\n",
    "taxonomy_7 = thresholds_7_gcfs.taxonomy.str.split(\",\",expand=True).fillna(\"\")\n",
    "streptomyces_index_7 = taxonomy_7[taxonomy_7[5].str.startswith(\"Streptomyces\")].index\n",
    "\n",
    "thresholds_7_gcfs.loc[streptomyces_index_7].gcf_id.value_counts()"
   ]
  },
  {
   "cell_type": "markdown",
   "id": "b2c7c600cc2e05e3",
   "metadata": {
    "collapsed": false,
    "jupyter": {
     "outputs_hidden": false
    }
   },
   "source": [
    "# END OF ADDITIONAL EFFORTS"
   ]
  },
  {
   "cell_type": "code",
   "execution_count": 7,
   "id": "1844f796-a692-4ee4-81a2-eff8f1e05074",
   "metadata": {},
   "outputs": [],
   "source": [
    "# thresholds_4_gcfs: np.ndarray = np.array(STable2.gcf_id.unique())\n",
    "# thresholds_5_gcfs: np.ndarray = np.array(STable3.gcf_id.unique())\n",
    "# thresholds_6_gcfs: np.ndarray = np.array(STable4.gcf_id.unique())\n",
    "# thresholds_7_gcfs: np.ndarray = np.array(STable5.gcf_id.unique())\n",
    "# bgc_ids: DataFrame = STable1.bgc_ids.str.split(\",\", expand=True)\n",
    "# bgc_ids = (bgc_ids.apply(pd.to_numeric, downcast=\"unsigned\"))\n",
    "# bgc_ids[[\"dataset_name\", \"AccNo\", \"taxonomy\"]] = STable1[[\"dataset_name\", \"AccNo\", \"taxonomy\"]]\n",
    "# STable2[\"bgc_id\"] = STable2[\"bgc_id\"].astype(np.int64)\n",
    "# STable2.index = STable2[\"bgc_id\"]\n",
    "# STable2[\"taxonomy\"] = \"\"\n",
    "# from pandarallel import pandarallel\n",
    "# import os\n",
    "# pandarallel.initialize(nb_workers=os.cpu_count())\n",
    "# def add_taxonomy_to_table(gcfs_array: np.ndarray, stable: DataFrame) -> None:\n",
    "#     # print(type(gcfs_array))\n",
    "#     # print(gcfs_array[5])\n",
    "#     for gcf in gcfs_array:\n",
    "#         # print(f\"gcf{gcf}\\n\")\n",
    "#         bgc_ids_of_gcf: np.ndarray = np.array(STable2[STable2.gcf_id == gcf][\"bgc_id\"])\n",
    "#         for bgc_id in bgc_ids_of_gcf:\n",
    "#             # print(f\"bgc_id{bgc_id}\\n\")\n",
    "#             # print(f\"type(bgc_id{type(bgc_id)}\\n\")\n",
    "#             bgc_tax = bgc_ids[bgc_ids.eq(bgc_id).any(axis=\"columns\")][\"taxonomy\"].iloc[0]\n",
    "#             stable.loc[bgc_id, \"taxonomy\"] = bgc_tax\n",
    "#add_taxonomy_to_table = np.vectorize(add_taxonomy_to_table)\n",
    "\n",
    "#add_taxonomy_to_table(gcfs_array = thresholds_4_gcfs[-10:], stable = STable2)"
   ]
  }
 ],
 "metadata": {
  "kernelspec": {
   "display_name": "Python 3 (ipykernel)",
   "language": "python",
   "name": "python3"
  },
  "language_info": {
   "codemirror_mode": {
    "name": "ipython",
    "version": 3
   },
   "file_extension": ".py",
   "mimetype": "text/x-python",
   "name": "python",
   "nbconvert_exporter": "python",
   "pygments_lexer": "ipython3",
   "version": "3.9.18"
  },
  "widgets": {
   "application/vnd.jupyter.widget-state+json": {
    "state": {},
    "version_major": 2,
    "version_minor": 0
   }
  }
 },
 "nbformat": 4,
 "nbformat_minor": 5
}
