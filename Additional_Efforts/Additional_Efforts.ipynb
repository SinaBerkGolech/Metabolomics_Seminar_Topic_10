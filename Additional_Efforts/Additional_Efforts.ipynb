{
 "cells": [
  {
   "cell_type": "code",
   "execution_count": 74,
   "id": "0d42af60-d249-46a3-a868-343bce28aeb1",
   "metadata": {
    "ExecuteTime": {
     "end_time": "2024-03-01T17:46:55.179652Z",
     "start_time": "2024-03-01T17:46:52.723404Z"
    }
   },
   "outputs": [],
   "source": [
    "import numpy as np\n",
    "import pandas as pd\n",
    "from pandas import DataFrame"
   ]
  },
  {
   "cell_type": "code",
   "execution_count": 75,
   "id": "67ec9338-9eec-4796-a8b7-15b6df9e8708",
   "metadata": {
    "ExecuteTime": {
     "end_time": "2024-03-01T17:47:09.075825Z",
     "start_time": "2024-03-01T17:47:02.256137Z"
    }
   },
   "outputs": [],
   "source": [
    "STable1: DataFrame = pd.read_csv(\"STable1_all_genomes_info.tsv\", sep=\"|\")\n",
    "STable2: DataFrame = pd.read_csv(\"STable2_BiG-SLICE_t0.4_GCF_assignment.csv\", sep=\",\")\n",
    "STable3: DataFrame = pd.read_csv(\"STable3_BiG-SLICE_t0.5_GCF_assignment.csv\", sep=\",\")\n",
    "STable4: DataFrame = pd.read_csv(\"STable4_BiG-SLICE_t0.6_GCF_assignment.csv\", sep=\",\")\n",
    "STable5: DataFrame = pd.read_csv(\"STable5_BiG-SLICE_t0.7_GCF_assignment.csv\", sep=\",\")"
   ]
  },
  {
   "cell_type": "code",
   "execution_count": 73,
   "id": "1844f796-a692-4ee4-81a2-eff8f1e05074",
   "metadata": {},
   "outputs": [],
   "source": [
    "# thresholds_4_gcfs: np.ndarray = np.array(STable2.gcf_id.unique())\n",
    "# thresholds_5_gcfs: np.ndarray = np.array(STable3.gcf_id.unique())\n",
    "# thresholds_6_gcfs: np.ndarray = np.array(STable4.gcf_id.unique())\n",
    "# thresholds_7_gcfs: np.ndarray = np.array(STable5.gcf_id.unique())\n",
    "# bgc_ids: DataFrame = STable1.bgc_ids.str.split(\",\", expand=True)\n",
    "# bgc_ids = (bgc_ids.apply(pd.to_numeric, downcast=\"unsigned\"))\n",
    "# bgc_ids[[\"dataset_name\", \"AccNo\", \"taxonomy\"]] = STable1[[\"dataset_name\", \"AccNo\", \"taxonomy\"]]\n",
    "# STable2[\"bgc_id\"] = STable2[\"bgc_id\"].astype(np.int64)\n",
    "# STable2.index = STable2[\"bgc_id\"]\n",
    "# STable2[\"taxonomy\"] = \"\"\n",
    "# from pandarallel import pandarallel\n",
    "# import os\n",
    "# pandarallel.initialize(nb_workers=os.cpu_count())\n",
    "# def add_taxonomy_to_table(gcfs_array: np.ndarray, stable: DataFrame) -> None:\n",
    "#     # print(type(gcfs_array))\n",
    "#     # print(gcfs_array[5])\n",
    "#     for gcf in gcfs_array:\n",
    "#         # print(f\"gcf{gcf}\\n\")\n",
    "#         bgc_ids_of_gcf: np.ndarray = np.array(STable2[STable2.gcf_id == gcf][\"bgc_id\"])\n",
    "#         for bgc_id in bgc_ids_of_gcf:\n",
    "#             # print(f\"bgc_id{bgc_id}\\n\")\n",
    "#             # print(f\"type(bgc_id{type(bgc_id)}\\n\")\n",
    "#             bgc_tax = bgc_ids[bgc_ids.eq(bgc_id).any(axis=\"columns\")][\"taxonomy\"].iloc[0]\n",
    "#             stable.loc[bgc_id, \"taxonomy\"] = bgc_tax\n",
    "#add_taxonomy_to_table = np.vectorize(add_taxonomy_to_table)\n",
    "\n",
    "#add_taxonomy_to_table(gcfs_array = thresholds_4_gcfs[-10:], stable = STable2)"
   ]
  },
  {
   "cell_type": "code",
   "execution_count": 76,
   "id": "cf3251c1-844d-4077-a3d6-6491d6c62579",
   "metadata": {},
   "outputs": [],
   "source": [
    "STable1 = STable1.rename(columns={\"bgc_ids\":\"bgc_id\"})"
   ]
  },
  {
   "cell_type": "code",
   "execution_count": 77,
   "id": "3e1a9a26daa2fb76",
   "metadata": {
    "ExecuteTime": {
     "end_time": "2024-03-01T17:47:12.209532Z",
     "start_time": "2024-03-01T17:47:10.605910Z"
    },
    "collapsed": false,
    "jupyter": {
     "outputs_hidden": false
    }
   },
   "outputs": [],
   "source": [
    "bgc_id = STable1.bgc_id.str.split(\",\")\n",
    "STable1[\"bgc_id\"] = bgc_id"
   ]
  },
  {
   "cell_type": "code",
   "execution_count": 78,
   "id": "86b702054a9c64e3",
   "metadata": {
    "ExecuteTime": {
     "end_time": "2024-03-01T17:47:24.241815Z",
     "start_time": "2024-03-01T17:47:23.093719Z"
    },
    "collapsed": false,
    "jupyter": {
     "outputs_hidden": false
    }
   },
   "outputs": [],
   "source": [
    "STable1 = STable1.explode(column=\"bgc_id\")"
   ]
  },
  {
   "cell_type": "code",
   "execution_count": 79,
   "id": "527e7f253592b983",
   "metadata": {
    "ExecuteTime": {
     "end_time": "2024-03-01T17:48:13.521858Z",
     "start_time": "2024-03-01T17:48:13.098559Z"
    },
    "collapsed": false,
    "jupyter": {
     "outputs_hidden": false
    }
   },
   "outputs": [],
   "source": [
    "STable1 = STable1.reset_index(drop=True)"
   ]
  },
  {
   "cell_type": "code",
   "execution_count": 80,
   "id": "24177e70-ec54-4eee-88c5-881a7e13dbe0",
   "metadata": {},
   "outputs": [],
   "source": [
    "STable1[\"bgc_id\"] = STable1.bgc_id.astype(\"int64\")"
   ]
  },
  {
   "cell_type": "code",
   "execution_count": 81,
   "id": "a65c9aa2054da1c4",
   "metadata": {
    "ExecuteTime": {
     "end_time": "2024-03-01T17:54:44.469191Z",
     "start_time": "2024-03-01T17:54:44.191712Z"
    },
    "collapsed": false,
    "jupyter": {
     "outputs_hidden": false
    }
   },
   "outputs": [],
   "source": [
    "df = pd.merge(STable1,STable2,on='bgc_id')"
   ]
  },
  {
   "cell_type": "code",
   "execution_count": 85,
   "id": "4ce9cf08-7b9f-4712-bbef-b6844c7b1450",
   "metadata": {},
   "outputs": [],
   "source": [
    "taxonomy = df.taxonomy.str.split(\",\",expand=True)\n",
    "#df2[\"taxonomy\"] = taxonomy"
   ]
  },
  {
   "cell_type": "code",
   "execution_count": 116,
   "id": "2d288a99-38e3-4e2b-b0f6-c1bf57016a6b",
   "metadata": {},
   "outputs": [
    {
     "data": {
      "text/plain": [
       "gcf_id\n",
       "57228    1074\n",
       "49265     786\n",
       "45969     687\n",
       "42802     672\n",
       "883       592\n",
       "         ... \n",
       "63864       1\n",
       "33437       1\n",
       "37103       1\n",
       "26535       1\n",
       "4696        1\n",
       "Name: count, Length: 8930, dtype: int64"
      ]
     },
     "execution_count": 116,
     "metadata": {},
     "output_type": "execute_result"
    }
   ],
   "source": [
    "df.loc[streptomyces_index].gcf_id.value_counts()"
   ]
  },
  {
   "cell_type": "code",
   "execution_count": 102,
   "id": "5b3bc62b-b983-46da-b57c-c38481166a9c",
   "metadata": {},
   "outputs": [],
   "source": [
    "taxonomy = taxonomy.fillna(\"\")"
   ]
  },
  {
   "cell_type": "code",
   "execution_count": 103,
   "id": "329f63af-1e8d-4e3a-adbc-c7253e950577",
   "metadata": {},
   "outputs": [
    {
     "data": {
      "text/plain": [
       "0    0\n",
       "1    0\n",
       "2    0\n",
       "3    0\n",
       "4    0\n",
       "5    0\n",
       "6    0\n",
       "dtype: int64"
      ]
     },
     "execution_count": 103,
     "metadata": {},
     "output_type": "execute_result"
    }
   ],
   "source": [
    "taxonomy.isna().sum()"
   ]
  },
  {
   "cell_type": "code",
   "execution_count": 115,
   "id": "9ed6a4df-9f19-47cd-a97e-e66beb29170b",
   "metadata": {},
   "outputs": [],
   "source": [
    "streptomyces_index = taxonomy[taxonomy[5].str.startswith(\"Streptomyces\")].index"
   ]
  },
  {
   "cell_type": "markdown",
   "id": "b2c7c600cc2e05e3",
   "metadata": {
    "collapsed": false,
    "jupyter": {
     "outputs_hidden": false
    }
   },
   "source": [
    "# END OF ADDITIONAL EFFORTS"
   ]
  }
 ],
 "metadata": {
  "kernelspec": {
   "display_name": "Python 3 (ipykernel)",
   "language": "python",
   "name": "python3"
  },
  "language_info": {
   "codemirror_mode": {
    "name": "ipython",
    "version": 3
   },
   "file_extension": ".py",
   "mimetype": "text/x-python",
   "name": "python",
   "nbconvert_exporter": "python",
   "pygments_lexer": "ipython3",
   "version": "3.9.18"
  },
  "widgets": {
   "application/vnd.jupyter.widget-state+json": {
    "state": {},
    "version_major": 2,
    "version_minor": 0
   }
  }
 },
 "nbformat": 4,
 "nbformat_minor": 5
}
