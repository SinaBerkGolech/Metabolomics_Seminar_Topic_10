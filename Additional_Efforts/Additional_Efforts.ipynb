{
 "cells": [
  {
   "cell_type": "markdown",
   "id": "1dbf0d00-c7bc-4c31-8297-06d6a765504a",
   "metadata": {},
   "source": [
    "## Additional Reproducibility Efforts \n",
    "\n",
    "Importing necessary library for data analysis for .csv and .tsv files; `pandas` & `DataFrame`\n",
    "All the supplementary tables (STable*) dowloaded from the Zenedo repository [1] of the original article [2].\n",
    "\n",
    "> [1] A. Gavriilidou, “Compendium of specialized metabolite biosynthetic diversity encoded in bacterial genomes”. Zenodo, Apr. 15, 2022.(https://doi.org/10.5281/zenodo.5159210).\n",
    "\n",
    "> [2] Gavriilidou, A., Kautsar, S.A., Zaburannyi, N. et al. Compendium of specialized metabolite biosynthetic diversity encoded in bacterial genomes. Nat Microbiol 7, 726–735 (2022). (https://doi.org/10.1038/s41564-022-01110-2)"
   ]
  },
  {
   "cell_type": "code",
   "execution_count": 1,
   "id": "0d42af60-d249-46a3-a868-343bce28aeb1",
   "metadata": {
    "ExecuteTime": {
     "end_time": "2024-03-01T17:46:55.179652Z",
     "start_time": "2024-03-01T17:46:52.723404Z"
    }
   },
   "outputs": [],
   "source": [
    "import pandas as pd\n",
    "from pandas import DataFrame"
   ]
  },
  {
   "cell_type": "code",
   "execution_count": 2,
   "id": "67ec9338-9eec-4796-a8b7-15b6df9e8708",
   "metadata": {
    "ExecuteTime": {
     "end_time": "2024-03-01T17:47:09.075825Z",
     "start_time": "2024-03-01T17:47:02.256137Z"
    }
   },
   "outputs": [],
   "source": [
    "STable1: DataFrame = pd.read_csv(\"STable1_all_genomes_info.tsv\", sep=\"|\")\n",
    "STable2: DataFrame = pd.read_csv(\"STable2_BiG-SLICE_t0.4_GCF_assignment.csv\", sep=\",\")\n",
    "STable3: DataFrame = pd.read_csv(\"STable3_BiG-SLICE_t0.5_GCF_assignment.csv\", sep=\",\")\n",
    "STable4: DataFrame = pd.read_csv(\"STable4_BiG-SLICE_t0.6_GCF_assignment.csv\", sep=\",\")\n",
    "STable5: DataFrame = pd.read_csv(\"STable5_BiG-SLICE_t0.7_GCF_assignment.csv\", sep=\",\")"
   ]
  },
  {
   "cell_type": "code",
   "execution_count": 3,
   "id": "cf3251c1-844d-4077-a3d6-6491d6c62579",
   "metadata": {},
   "outputs": [],
   "source": [
    "STable1 = STable1.rename(columns={\"bgc_ids\":\"bgc_id\"})\n",
    "\n",
    "STable1[\"bgc_id\"] =  STable1.bgc_id.str.split(\",\")\n",
    "\n",
    "STable1 = STable1.explode(column=\"bgc_id\").reset_index(drop=True)\n",
    "\n",
    "STable1[\"bgc_id\"] = STable1.bgc_id.astype(\"int64\")"
   ]
  },
  {
   "cell_type": "markdown",
   "id": "f034c8bd-c968-4452-bf51-61f34dd7d04c",
   "metadata": {},
   "source": [
    "For every threshhold `pd.merge` applied. Taxonomy information is selected from taxonomy column of each dataframe. The streptomyces genus level is displayed as an output, the following question is asked;\n",
    "\n",
    "* **From the figure 1_A the streptomyces value counts are known (see Figure_1.ipynb), if the foloowing filtering algorithm utilized do we get the same results?**\n",
    "\n",
    "Figure 1_A data;\n",
    "\n",
    "|          | **_Genus_**          | **_Number of GCFs_** | **_Threshold (T)_** |\n",
    "|----------|----------------------|----------------------|---------------------|\n",
    "| **_0_**  | **_Streptomyces_**   | **_7294_**           | **_t=0.4_**         |\n",
    "| **_9_**  | **_Streptomyces_**   | **_5720_**           | **_t=0.5_**         |\n",
    "| **_18_** | **_Streptomyces_**   | **_4360_**           | **_t=0.6_**         |\n",
    "| **_27_** | **_Streptomyces_**   | **_2889_**           | **_t=0.7_**         |\n"
   ]
  },
  {
   "cell_type": "code",
   "execution_count": 4,
   "id": "a4450945-8135-49ff-b8d4-787aa796fd16",
   "metadata": {},
   "outputs": [],
   "source": [
    "thresholds_4_gcfs = pd.merge(STable1, STable2, on='bgc_id')\n",
    "\n",
    "taxonomy_4 = thresholds_4_gcfs.taxonomy.str.split(\",\",expand=True).fillna(\"\")\n",
    "streptomyces_index_4 = taxonomy_4[taxonomy_4[5] == \"Streptomyces\"].index\n",
    "\n",
    "thresholds_4_gcf_count = thresholds_4_gcfs.loc[streptomyces_index_4].gcf_id.value_counts()"
   ]
  },
  {
   "cell_type": "code",
   "execution_count": 5,
   "id": "339fecfb",
   "metadata": {},
   "outputs": [],
   "source": [
    "thresholds_5_gcfs = pd.merge(STable1, STable3, on='bgc_id')\n",
    "\n",
    "taxonomy_5 = thresholds_5_gcfs.taxonomy.str.split(\",\",expand=True).fillna(\"\")\n",
    "streptomyces_index_5 = taxonomy_5[taxonomy_5[5] == \"Streptomyces\"].index\n",
    "\n",
    "thresholds_5_gcf_count = thresholds_5_gcfs.loc[streptomyces_index_5].gcf_id.value_counts()"
   ]
  },
  {
   "cell_type": "code",
   "execution_count": 6,
   "id": "b1f0a246",
   "metadata": {},
   "outputs": [],
   "source": [
    "thresholds_6_gcfs = pd.merge(STable1, STable4, on='bgc_id')\n",
    "\n",
    "taxonomy_6 = thresholds_6_gcfs.taxonomy.str.split(\",\",expand=True).fillna(\"\")\n",
    "streptomyces_index_6 = taxonomy_6[taxonomy_6[5] == \"Streptomyces\"].index\n",
    "\n",
    "thresholds_6_gcf_count = thresholds_6_gcfs.loc[streptomyces_index_6].gcf_id.value_counts()"
   ]
  },
  {
   "cell_type": "code",
   "execution_count": 7,
   "id": "d5dada3b",
   "metadata": {},
   "outputs": [],
   "source": [
    "thresholds_7_gcfs = pd.merge(STable1, STable5, on='bgc_id')\n",
    "\n",
    "taxonomy_7 = thresholds_7_gcfs.taxonomy.str.split(\",\",expand=True).fillna(\"\")\n",
    "streptomyces_index_7 = taxonomy_7[taxonomy_7[5] == \"Streptomyces\"].index\n",
    "\n",
    "thresholds_7_gcf_count = thresholds_7_gcfs.loc[streptomyces_index_7].gcf_id.value_counts()"
   ]
  },
  {
   "cell_type": "code",
   "execution_count": 8,
   "id": "2f8fd5fe-af9f-4f1d-9136-86b321af652f",
   "metadata": {},
   "outputs": [
    {
     "data": {
      "text/plain": [
       "(8703, 6798, 5136, 3363)"
      ]
     },
     "execution_count": 8,
     "metadata": {},
     "output_type": "execute_result"
    }
   ],
   "source": [
    "len(thresholds_4_gcf_count),len(thresholds_5_gcf_count),len(thresholds_6_gcf_count),len(thresholds_7_gcf_count)"
   ]
  },
  {
   "cell_type": "markdown",
   "id": "e907acf1-4c82-4e02-999b-2846a40eb9f5",
   "metadata": {},
   "source": [
    "When inspected;\n",
    "\n",
    "Figure 1_A data from the applied algorithm;\n",
    "<table>\n",
    "<tr><th>Original Data </th><th>Reproduced Data</th></tr>\n",
    "<tr><td>\n",
    "\n",
    "|          |      **_Genus_**     | **_Number of GCFs_** | **_Threshold (T)_** |\n",
    "|:--------:|:--------------------:|:--------------------:|:-------------------:|\n",
    "|  **_0_** |  **_Streptomyces_**  |      **_7294_**      |     **_t=0.4_**     |\n",
    "|  **_9_** |  **_Streptomyces_**  |      **_5720_**      |     **_t=0.5_**     |\n",
    "| **_18_** |  **_Streptomyces_**  |      **_4360_**      |     **_t=0.6_**     |\n",
    "| **_27_** |  **_Streptomyces_**  |      **_2889_**      |     **_t=0.7_**     |\n",
    "\n",
    "</td><td>\n",
    "\n",
    "|          |      **_Genus_**     | **_Number of GCFs_** | **_Threshold (T)_** |\n",
    "|:--------:|:--------------------:|:--------------------:|:-------------------:|\n",
    "|  **_0_** |  **_Streptomyces_**  |      **_8703_**      |     **_t=0.4_**     |\n",
    "|  **_9_** |  **_Streptomyces_**  |      **_6798_**      |     **_t=0.5_**     |\n",
    "| **_18_** |  **_Streptomyces_**  |      **_5136_**      |     **_t=0.6_**     |\n",
    "| **_27_** |  **_Streptomyces_**  |      **_3363_**      |     **_t=0.7_**     |\n",
    "\n",
    "</td></tr> </table>"
   ]
  },
  {
   "cell_type": "code",
   "execution_count": 9,
   "id": "d3769e08-6e9e-4a6e-af22-533967752e1a",
   "metadata": {},
   "outputs": [
    {
     "data": {
      "text/plain": [
       "(1409, 1078, 776, 474)"
      ]
     },
     "execution_count": 9,
     "metadata": {},
     "output_type": "execute_result"
    }
   ],
   "source": [
    "len(thresholds_4_gcf_count)-7294,len(thresholds_5_gcf_count)-5720,len(thresholds_6_gcf_count)-4360,len(thresholds_7_gcf_count)-2889"
   ]
  },
  {
   "cell_type": "code",
   "execution_count": 10,
   "id": "a91b60bb-a1a6-48b1-9eca-98e6f40f359e",
   "metadata": {},
   "outputs": [
    {
     "data": {
      "text/plain": [
       "(1905, 1662, 1773)"
      ]
     },
     "execution_count": 10,
     "metadata": {},
     "output_type": "execute_result"
    }
   ],
   "source": [
    "len(thresholds_4_gcf_count)-len(thresholds_5_gcf_count),len(thresholds_5_gcf_count)-len(thresholds_6_gcf_count),len(thresholds_6_gcf_count)-len(thresholds_7_gcf_count)"
   ]
  },
  {
   "cell_type": "code",
   "execution_count": 11,
   "id": "90aee6f4-635e-4fe4-874d-5b875c9ba263",
   "metadata": {},
   "outputs": [
    {
     "data": {
      "text/plain": [
       "(331, 302, 302)"
      ]
     },
     "execution_count": 11,
     "metadata": {},
     "output_type": "execute_result"
    }
   ],
   "source": [
    "1409-1078, 1078-776, 776-474"
   ]
  },
  {
   "cell_type": "code",
   "execution_count": 12,
   "id": "3f019534-c18e-47d1-96e7-d49e13f1e819",
   "metadata": {},
   "outputs": [
    {
     "data": {
      "text/plain": [
       "(764, 37, 37, 37)"
      ]
     },
     "execution_count": 12,
     "metadata": {},
     "output_type": "execute_result"
    }
   ],
   "source": [
    "len(STable2)-len(thresholds_4_gcfs),len(STable3)-len(thresholds_5_gcfs),len(STable4)-len(thresholds_6_gcfs),len(STable5)-len(thresholds_7_gcfs)"
   ]
  },
  {
   "cell_type": "markdown",
   "id": "95dd9499-4a6d-4377-90b4-dd8b469c0fcf",
   "metadata": {},
   "source": [
    "When inspected;\n",
    "\n",
    "Figure 1_A data from the applied algorithm;\n",
    "<table>\n",
    "<tr><th>Original Data vs Reproduced Data </th><th>Extra Operations</th></tr>\n",
    "<tr><td>\n",
    "\n",
    "|          |      **_Genus_**     | **_Number of GCFs Differ_** | **_Threshold (T)_** |\n",
    "|:--------:|:--------------------:|:---------------------------:|:-------------------:|\n",
    "|  **_$diff_1$_** |  **_Streptomyces_**  |          **_1409_**         |     **_t=0.4_**     |\n",
    "|  **_$diff_2$_** |  **_Streptomyces_**  |          **_1078_**         |     **_t=0.5_**     |\n",
    "| **_$diff_3$_** |  **_Streptomyces_**  |          **_776_**          |     **_t=0.6_**     |\n",
    "| **_$diff_4$_** |  **_Streptomyces_**  |          **_474_**          |     **_t=0.7_**     |\n",
    "\n",
    "</td><td>\n",
    "\n",
    "|      **_Operation_**     | **_Values of the output_**             |\n",
    "|:--------------------:|:--------------------:            |\n",
    "|  **_$ t_{0.4} - t_{0.5} , t_{0.5} - t_{0.6} , t_{0.6} - t_{0.7} $_**  |      **(1905, 1662, 1773)**      |\n",
    "|  **_$ diff_1 - diff_2 , diff_2 - diff_3 , diff_3 - diff_4 $_**  |      **(331, 302, 302)**         |\n",
    "|  **_Data Lost From INNER MERGE OPERATION\\{t=0.4,0.5,0.6,0.7}_**  |      **(764, 37, 37, 37)**       |\n",
    "\n",
    "</td></tr> </table>"
   ]
  },
  {
   "cell_type": "code",
   "execution_count": 23,
   "id": "c64d7a43-ec6a-4a38-85c7-30a06f0f9a93",
   "metadata": {},
   "outputs": [],
   "source": [
    "phylum_taxa  = taxonomy_4[1].value_counts()[:20]\n",
    "class_taxa   = taxonomy_4[2].value_counts()[:20]\n",
    "order_taxa   = taxonomy_4[3].value_counts()[:20]\n",
    "family_taxa  = taxonomy_4[4].value_counts()[:20]\n",
    "genus_taxa   = taxonomy_4[5].value_counts()[:20]\n",
    "species_taxa = taxonomy_4[6].value_counts()[:20]"
   ]
  },
  {
   "cell_type": "code",
   "execution_count": 27,
   "id": "8a968d0e",
   "metadata": {},
   "outputs": [],
   "source": [
    "# Taxonomy resolution\n",
    "taxonomy_resolution = DataFrame({\"phylum_taxa_name\":list(phylum_taxa.index),\n",
    "                         \"phylum_taxa_count\":list(phylum_taxa.values),\n",
    "                         \"class_taxa_name\":list(class_taxa.index),\n",
    "                         \"class_taxa_count\":list(class_taxa.values),\n",
    "                         \"order_taxa_name\":list(order_taxa.index),\n",
    "                         \"order_taxa_count\":list(order_taxa.values),\n",
    "                         \"family_taxa_name\":list(family_taxa.index),\n",
    "                         \"family_taxa_count\":list(family_taxa.values),\n",
    "                         \"genus_taxa_name\":list(genus_taxa.index),\n",
    "                         \"genus_taxa_count\":list(genus_taxa.values),\n",
    "                         \"species_taxa_name\":list(species_taxa.index),\n",
    "                         \"species_taxa_count\":list(species_taxa.values),\n",
    "                        }\n",
    "                       )"
   ]
  },
  {
   "cell_type": "code",
   "execution_count": 28,
   "id": "ec4e1f58-9397-4298-87f4-dc2b82557a62",
   "metadata": {},
   "outputs": [
    {
     "data": {
      "text/html": [
       "<div>\n",
       "<style scoped>\n",
       "    .dataframe tbody tr th:only-of-type {\n",
       "        vertical-align: middle;\n",
       "    }\n",
       "\n",
       "    .dataframe tbody tr th {\n",
       "        vertical-align: top;\n",
       "    }\n",
       "\n",
       "    .dataframe thead th {\n",
       "        text-align: right;\n",
       "    }\n",
       "</style>\n",
       "<table border=\"1\" class=\"dataframe\">\n",
       "  <thead>\n",
       "    <tr style=\"text-align: right;\">\n",
       "      <th></th>\n",
       "      <th>phylum_taxa_name</th>\n",
       "      <th>phylum_taxa_count</th>\n",
       "      <th>class_taxa_name</th>\n",
       "      <th>class_taxa_count</th>\n",
       "      <th>order_taxa_name</th>\n",
       "      <th>order_taxa_count</th>\n",
       "      <th>family_taxa_name</th>\n",
       "      <th>family_taxa_count</th>\n",
       "      <th>genus_taxa_name</th>\n",
       "      <th>genus_taxa_count</th>\n",
       "      <th>species_taxa_name</th>\n",
       "      <th>species_taxa_count</th>\n",
       "    </tr>\n",
       "  </thead>\n",
       "  <tbody>\n",
       "    <tr>\n",
       "      <th>0</th>\n",
       "      <td>Proteobacteria</td>\n",
       "      <td>565024</td>\n",
       "      <td>Gammaproteobacteria</td>\n",
       "      <td>507067</td>\n",
       "      <td>Enterobacterales</td>\n",
       "      <td>202288</td>\n",
       "      <td>Enterobacteriaceae</td>\n",
       "      <td>170657</td>\n",
       "      <td>Mycobacterium</td>\n",
       "      <td>105197</td>\n",
       "      <td></td>\n",
       "      <td>115269</td>\n",
       "    </tr>\n",
       "    <tr>\n",
       "      <th>1</th>\n",
       "      <td>Actinobacteriota</td>\n",
       "      <td>264466</td>\n",
       "      <td>Actinobacteria</td>\n",
       "      <td>262184</td>\n",
       "      <td>Mycobacteriales</td>\n",
       "      <td>180105</td>\n",
       "      <td>Mycobacteriaceae</td>\n",
       "      <td>164511</td>\n",
       "      <td>Pseudomonas</td>\n",
       "      <td>75072</td>\n",
       "      <td>Mycobacterium tuberculosis</td>\n",
       "      <td>93107</td>\n",
       "    </tr>\n",
       "    <tr>\n",
       "      <th>2</th>\n",
       "      <td>Firmicutes</td>\n",
       "      <td>229209</td>\n",
       "      <td>Bacilli</td>\n",
       "      <td>228404</td>\n",
       "      <td>Pseudomonadales</td>\n",
       "      <td>170045</td>\n",
       "      <td>Pseudomonadaceae</td>\n",
       "      <td>124741</td>\n",
       "      <td>Staphylococcus</td>\n",
       "      <td>74118</td>\n",
       "      <td>Pseudomonas aeruginosa</td>\n",
       "      <td>74268</td>\n",
       "    </tr>\n",
       "    <tr>\n",
       "      <th>3</th>\n",
       "      <td>Bacteroidota</td>\n",
       "      <td>32879</td>\n",
       "      <td>Alphaproteobacteria</td>\n",
       "      <td>57906</td>\n",
       "      <td>Burkholderiales</td>\n",
       "      <td>100727</td>\n",
       "      <td>Burkholderiaceae</td>\n",
       "      <td>90287</td>\n",
       "      <td>Streptococcus</td>\n",
       "      <td>74113</td>\n",
       "      <td>Staphylococcus aureus</td>\n",
       "      <td>63582</td>\n",
       "    </tr>\n",
       "    <tr>\n",
       "      <th>4</th>\n",
       "      <td>Firmicutes_A</td>\n",
       "      <td>28999</td>\n",
       "      <td>Bacteroidia</td>\n",
       "      <td>30909</td>\n",
       "      <td>Lactobacillales</td>\n",
       "      <td>94986</td>\n",
       "      <td>Streptococcaceae</td>\n",
       "      <td>75486</td>\n",
       "      <td>Escherichia</td>\n",
       "      <td>68537</td>\n",
       "      <td>Streptococcus pneumoniae</td>\n",
       "      <td>50516</td>\n",
       "    </tr>\n",
       "  </tbody>\n",
       "</table>\n",
       "</div>"
      ],
      "text/plain": [
       "   phylum_taxa_name  phylum_taxa_count      class_taxa_name  class_taxa_count  \\\n",
       "0    Proteobacteria             565024  Gammaproteobacteria            507067   \n",
       "1  Actinobacteriota             264466       Actinobacteria            262184   \n",
       "2        Firmicutes             229209              Bacilli            228404   \n",
       "3      Bacteroidota              32879  Alphaproteobacteria             57906   \n",
       "4      Firmicutes_A              28999          Bacteroidia             30909   \n",
       "\n",
       "    order_taxa_name  order_taxa_count    family_taxa_name  family_taxa_count  \\\n",
       "0  Enterobacterales            202288  Enterobacteriaceae             170657   \n",
       "1   Mycobacteriales            180105    Mycobacteriaceae             164511   \n",
       "2   Pseudomonadales            170045    Pseudomonadaceae             124741   \n",
       "3   Burkholderiales            100727    Burkholderiaceae              90287   \n",
       "4   Lactobacillales             94986    Streptococcaceae              75486   \n",
       "\n",
       "  genus_taxa_name  genus_taxa_count           species_taxa_name  \\\n",
       "0   Mycobacterium            105197                               \n",
       "1     Pseudomonas             75072  Mycobacterium tuberculosis   \n",
       "2  Staphylococcus             74118      Pseudomonas aeruginosa   \n",
       "3   Streptococcus             74113       Staphylococcus aureus   \n",
       "4     Escherichia             68537    Streptococcus pneumoniae   \n",
       "\n",
       "   species_taxa_count  \n",
       "0              115269  \n",
       "1               93107  \n",
       "2               74268  \n",
       "3               63582  \n",
       "4               50516  "
      ]
     },
     "execution_count": 28,
     "metadata": {},
     "output_type": "execute_result"
    }
   ],
   "source": [
    "taxonomy_resolution.head()"
   ]
  },
  {
   "cell_type": "code",
   "execution_count": 32,
   "id": "08624e96-6599-4c96-9f6a-1db9f1a9f61b",
   "metadata": {},
   "outputs": [],
   "source": [
    "lookup = taxonomy_4[5].value_counts().index"
   ]
  },
  {
   "cell_type": "code",
   "execution_count": 34,
   "id": "b357d748-b233-4080-9f6a-7d2482cf02b9",
   "metadata": {},
   "outputs": [
    {
     "data": {
      "text/plain": [
       "Index(['Mycobacterium', 'Pseudomonas', 'Staphylococcus', 'Streptococcus',\n",
       "       'Escherichia', 'Burkholderia', 'Streptomyces', 'Pseudomonas_E',\n",
       "       'Acinetobacter', 'Klebsiella',\n",
       "       ...\n",
       "       'Tepidibacter_A', 'UBA6177 sp002422875', 'Pasteurella_A', 'Ac37b',\n",
       "       'Thermopetrobacter', 'Sediminicola_A', 'UBA6149 sp002423155', 'UBA5941',\n",
       "       'UBA6147', 'Deferribacter'],\n",
       "      dtype='object', name=5, length=5352)"
      ]
     },
     "execution_count": 34,
     "metadata": {},
     "output_type": "execute_result"
    }
   ],
   "source": [
    "lookup"
   ]
  },
  {
   "cell_type": "code",
   "execution_count": null,
   "id": "769d1026-cb90-4682-a746-0bccecbbf2cf",
   "metadata": {},
   "outputs": [],
   "source": [
    "for i in lookup:\n",
    "    "
   ]
  },
  {
   "cell_type": "code",
   "execution_count": 35,
   "id": "bc6aad55-718e-45d6-a488-275c194c19bd",
   "metadata": {},
   "outputs": [
    {
     "data": {
      "text/html": [
       "<div>\n",
       "<style scoped>\n",
       "    .dataframe tbody tr th:only-of-type {\n",
       "        vertical-align: middle;\n",
       "    }\n",
       "\n",
       "    .dataframe tbody tr th {\n",
       "        vertical-align: top;\n",
       "    }\n",
       "\n",
       "    .dataframe thead th {\n",
       "        text-align: right;\n",
       "    }\n",
       "</style>\n",
       "<table border=\"1\" class=\"dataframe\">\n",
       "  <thead>\n",
       "    <tr style=\"text-align: right;\">\n",
       "      <th></th>\n",
       "      <th>dataset_name</th>\n",
       "      <th>AccNo</th>\n",
       "      <th>taxonomy</th>\n",
       "      <th>bgc_id</th>\n",
       "      <th>gcf_id</th>\n",
       "      <th>feature_to_centroid_distance</th>\n",
       "    </tr>\n",
       "  </thead>\n",
       "  <tbody>\n",
       "    <tr>\n",
       "      <th>0</th>\n",
       "      <td>mag_uba</td>\n",
       "      <td>DBAD</td>\n",
       "      <td>Bacteria,Proteobacteria,Gammaproteobacteria,Bu...</td>\n",
       "      <td>1201186</td>\n",
       "      <td>1499</td>\n",
       "      <td>0.266547</td>\n",
       "    </tr>\n",
       "    <tr>\n",
       "      <th>1</th>\n",
       "      <td>mag_uba</td>\n",
       "      <td>DBAD</td>\n",
       "      <td>Bacteria,Proteobacteria,Gammaproteobacteria,Bu...</td>\n",
       "      <td>1201187</td>\n",
       "      <td>14583</td>\n",
       "      <td>0.097783</td>\n",
       "    </tr>\n",
       "    <tr>\n",
       "      <th>2</th>\n",
       "      <td>mag_uba</td>\n",
       "      <td>DBAD</td>\n",
       "      <td>Bacteria,Proteobacteria,Gammaproteobacteria,Bu...</td>\n",
       "      <td>1201188</td>\n",
       "      <td>6524</td>\n",
       "      <td>0.299472</td>\n",
       "    </tr>\n",
       "    <tr>\n",
       "      <th>3</th>\n",
       "      <td>mag_uba</td>\n",
       "      <td>DBAD</td>\n",
       "      <td>Bacteria,Proteobacteria,Gammaproteobacteria,Bu...</td>\n",
       "      <td>1201189</td>\n",
       "      <td>29829</td>\n",
       "      <td>0.770989</td>\n",
       "    </tr>\n",
       "    <tr>\n",
       "      <th>4</th>\n",
       "      <td>mag_uba</td>\n",
       "      <td>DBAF</td>\n",
       "      <td>Bacteria,Proteobacteria,Gammaproteobacteria,Ps...</td>\n",
       "      <td>1201638</td>\n",
       "      <td>7661</td>\n",
       "      <td>0.544232</td>\n",
       "    </tr>\n",
       "    <tr>\n",
       "      <th>...</th>\n",
       "      <td>...</td>\n",
       "      <td>...</td>\n",
       "      <td>...</td>\n",
       "      <td>...</td>\n",
       "      <td>...</td>\n",
       "      <td>...</td>\n",
       "    </tr>\n",
       "    <tr>\n",
       "      <th>1185226</th>\n",
       "      <td>GEMS</td>\n",
       "      <td>3300029947_3</td>\n",
       "      <td>Bacteria,Bacteroidota,Bacteroidia,Bacteroidale...</td>\n",
       "      <td>1293123</td>\n",
       "      <td>63104</td>\n",
       "      <td>0.000000</td>\n",
       "    </tr>\n",
       "    <tr>\n",
       "      <th>1185227</th>\n",
       "      <td>GEMS</td>\n",
       "      <td>3300029947_7</td>\n",
       "      <td>Bacteria,Bacteroidota,Bacteroidia,Bacteroidale...</td>\n",
       "      <td>1266441</td>\n",
       "      <td>57198</td>\n",
       "      <td>0.454297</td>\n",
       "    </tr>\n",
       "    <tr>\n",
       "      <th>1185228</th>\n",
       "      <td>GEMS</td>\n",
       "      <td>3300029947_9</td>\n",
       "      <td>Bacteria,Bacteroidota,Bacteroidia,Bacteroidale...</td>\n",
       "      <td>1283834</td>\n",
       "      <td>61822</td>\n",
       "      <td>0.347687</td>\n",
       "    </tr>\n",
       "    <tr>\n",
       "      <th>1185229</th>\n",
       "      <td>GEMS</td>\n",
       "      <td>3300029948_2</td>\n",
       "      <td>Bacteria,Bacteroidota,Bacteroidia,Flavobacteri...</td>\n",
       "      <td>1240339</td>\n",
       "      <td>16897</td>\n",
       "      <td>0.316188</td>\n",
       "    </tr>\n",
       "    <tr>\n",
       "      <th>1185230</th>\n",
       "      <td>GEMS</td>\n",
       "      <td>3300029948_3</td>\n",
       "      <td>Bacteria,Bacteroidota,Bacteroidia,Chitinophaga...</td>\n",
       "      <td>1314104</td>\n",
       "      <td>25379</td>\n",
       "      <td>0.779890</td>\n",
       "    </tr>\n",
       "  </tbody>\n",
       "</table>\n",
       "<p>1185231 rows × 6 columns</p>\n",
       "</div>"
      ],
      "text/plain": [
       "        dataset_name         AccNo  \\\n",
       "0            mag_uba          DBAD   \n",
       "1            mag_uba          DBAD   \n",
       "2            mag_uba          DBAD   \n",
       "3            mag_uba          DBAD   \n",
       "4            mag_uba          DBAF   \n",
       "...              ...           ...   \n",
       "1185226         GEMS  3300029947_3   \n",
       "1185227         GEMS  3300029947_7   \n",
       "1185228         GEMS  3300029947_9   \n",
       "1185229         GEMS  3300029948_2   \n",
       "1185230         GEMS  3300029948_3   \n",
       "\n",
       "                                                  taxonomy   bgc_id  gcf_id  \\\n",
       "0        Bacteria,Proteobacteria,Gammaproteobacteria,Bu...  1201186    1499   \n",
       "1        Bacteria,Proteobacteria,Gammaproteobacteria,Bu...  1201187   14583   \n",
       "2        Bacteria,Proteobacteria,Gammaproteobacteria,Bu...  1201188    6524   \n",
       "3        Bacteria,Proteobacteria,Gammaproteobacteria,Bu...  1201189   29829   \n",
       "4        Bacteria,Proteobacteria,Gammaproteobacteria,Ps...  1201638    7661   \n",
       "...                                                    ...      ...     ...   \n",
       "1185226  Bacteria,Bacteroidota,Bacteroidia,Bacteroidale...  1293123   63104   \n",
       "1185227  Bacteria,Bacteroidota,Bacteroidia,Bacteroidale...  1266441   57198   \n",
       "1185228  Bacteria,Bacteroidota,Bacteroidia,Bacteroidale...  1283834   61822   \n",
       "1185229  Bacteria,Bacteroidota,Bacteroidia,Flavobacteri...  1240339   16897   \n",
       "1185230  Bacteria,Bacteroidota,Bacteroidia,Chitinophaga...  1314104   25379   \n",
       "\n",
       "         feature_to_centroid_distance  \n",
       "0                            0.266547  \n",
       "1                            0.097783  \n",
       "2                            0.299472  \n",
       "3                            0.770989  \n",
       "4                            0.544232  \n",
       "...                               ...  \n",
       "1185226                      0.000000  \n",
       "1185227                      0.454297  \n",
       "1185228                      0.347687  \n",
       "1185229                      0.316188  \n",
       "1185230                      0.779890  \n",
       "\n",
       "[1185231 rows x 6 columns]"
      ]
     },
     "execution_count": 35,
     "metadata": {},
     "output_type": "execute_result"
    }
   ],
   "source": [
    "thresholds_4_gcfs"
   ]
  },
  {
   "cell_type": "code",
   "execution_count": 39,
   "id": "362bd5e9-4db9-41c8-9c7d-fcbcb0918394",
   "metadata": {},
   "outputs": [
    {
     "data": {
      "text/plain": [
       "Index(['Mycobacterium', 'Pseudomonas', 'Staphylococcus', 'Streptococcus',\n",
       "       'Escherichia', 'Burkholderia', 'Streptomyces', 'Pseudomonas_E',\n",
       "       'Acinetobacter', 'Klebsiella',\n",
       "       ...\n",
       "       'Tepidibacter_A', 'UBA6177 sp002422875', 'Pasteurella_A', 'Ac37b',\n",
       "       'Thermopetrobacter', 'Sediminicola_A', 'UBA6149 sp002423155', 'UBA5941',\n",
       "       'UBA6147', 'Deferribacter'],\n",
       "      dtype='object', name=5, length=5352)"
      ]
     },
     "execution_count": 39,
     "metadata": {},
     "output_type": "execute_result"
    }
   ],
   "source": [
    "lookup"
   ]
  },
  {
   "cell_type": "code",
   "execution_count": 49,
   "id": "c039ad97-d97d-4c8c-86b9-d54511074e6e",
   "metadata": {},
   "outputs": [],
   "source": [
    "emphty_dict = {}\n",
    "for i in lookup:\n",
    "    temp = thresholds_4_gcfs.loc[taxonomy_4[taxonomy_4[5] == i].index,\"gcf_id\"].value_counts()\n",
    "    emphty_dict[f\"{i}\"] = [len(temp),temp.index, temp.values]"
   ]
  },
  {
   "cell_type": "code",
   "execution_count": 50,
   "id": "c453c9ae-b099-4735-bb63-8981597cd676",
   "metadata": {},
   "outputs": [],
   "source": [
    "df = pd.DataFrame.from_dict(emphty_dict)"
   ]
  },
  {
   "cell_type": "code",
   "execution_count": 59,
   "id": "bfa8f850-2372-48e7-b452-9ab7cf4266d9",
   "metadata": {
    "scrolled": true
   },
   "outputs": [],
   "source": [
    "df_t = df.transpose()"
   ]
  },
  {
   "cell_type": "code",
   "execution_count": 63,
   "id": "580d1130-252e-42d6-8281-0a9d894a7acf",
   "metadata": {},
   "outputs": [],
   "source": [
    "df_t = df_t.rename({0:\"gcf_count_unique\",1:\"gcf_index\",2:\"gcf_count\"},axis=1)"
   ]
  },
  {
   "cell_type": "code",
   "execution_count": 65,
   "id": "6b7fe5af-33ff-4086-b90f-02e8e59f137d",
   "metadata": {},
   "outputs": [],
   "source": [
    "df_t.to_csv(\"reproducibility_results.csv\",index_label=\"Genus_Taxonomy\")"
   ]
  },
  {
   "cell_type": "code",
   "execution_count": 71,
   "id": "e96b5abe-00f1-486c-899e-b01a1faf0228",
   "metadata": {},
   "outputs": [],
   "source": [
    "df_t_sorted = df_t.sort_values(\"gcf_count_unique\",ascending=False)"
   ]
  },
  {
   "cell_type": "code",
   "execution_count": 72,
   "id": "27fdb1c1-d52d-4c14-9219-1de6383d674a",
   "metadata": {},
   "outputs": [],
   "source": [
    "df_t_sorted.to_csv(\"reproducibility_results_sorted.csv\",index_label=\"Genus_Taxonomy\")"
   ]
  },
  {
   "cell_type": "code",
   "execution_count": 77,
   "id": "f2b994de-8e59-4b6a-a091-10a81979250d",
   "metadata": {},
   "outputs": [
    {
     "data": {
      "text/html": [
       "<div>\n",
       "<style scoped>\n",
       "    .dataframe tbody tr th:only-of-type {\n",
       "        vertical-align: middle;\n",
       "    }\n",
       "\n",
       "    .dataframe tbody tr th {\n",
       "        vertical-align: top;\n",
       "    }\n",
       "\n",
       "    .dataframe thead th {\n",
       "        text-align: right;\n",
       "    }\n",
       "</style>\n",
       "<table border=\"1\" class=\"dataframe\">\n",
       "  <thead>\n",
       "    <tr style=\"text-align: right;\">\n",
       "      <th></th>\n",
       "      <th>gcf_count_unique</th>\n",
       "      <th>gcf_index</th>\n",
       "      <th>gcf_count</th>\n",
       "    </tr>\n",
       "  </thead>\n",
       "  <tbody>\n",
       "    <tr>\n",
       "      <th>Streptomyces</th>\n",
       "      <td>8703</td>\n",
       "      <td>Index([57228, 49265, 45969, 42802,   883,  925...</td>\n",
       "      <td>[1061, 766, 682, 654, 591, 534, 507, 491, 443,...</td>\n",
       "    </tr>\n",
       "    <tr>\n",
       "      <th>Pseudomonas_E</th>\n",
       "      <td>1517</td>\n",
       "      <td>Index([25095, 22671, 37850, 58987,  9257, 2787...</td>\n",
       "      <td>[4282, 2073, 2048, 1498, 1445, 1395, 1330, 120...</td>\n",
       "    </tr>\n",
       "    <tr>\n",
       "      <th>Nocardia</th>\n",
       "      <td>1421</td>\n",
       "      <td>Index([51953,  9257, 32744, 17269, 57228, 5000...</td>\n",
       "      <td>[173, 128, 76, 62, 60, 55, 54, 53, 48, 47, 46,...</td>\n",
       "    </tr>\n",
       "    <tr>\n",
       "      <th>Micromonospora</th>\n",
       "      <td>1089</td>\n",
       "      <td>Index([49696, 57228, 40767, 12206, 20197, 2830...</td>\n",
       "      <td>[215, 182, 152, 108, 88, 87, 86, 85, 81, 77, 7...</td>\n",
       "    </tr>\n",
       "    <tr>\n",
       "      <th>Amycolatopsis</th>\n",
       "      <td>964</td>\n",
       "      <td>Index([57228,  9131,  5897,     0, 56542, 4926...</td>\n",
       "      <td>[64, 52, 38, 35, 34, 33, 30, 30, 30, 29, 29, 2...</td>\n",
       "    </tr>\n",
       "    <tr>\n",
       "      <th>Mycobacterium</th>\n",
       "      <td>862</td>\n",
       "      <td>Index([42326, 43972, 64462, 58399, 61011, 6144...</td>\n",
       "      <td>[6586, 6578, 6498, 6489, 6482, 6328, 6266, 598...</td>\n",
       "    </tr>\n",
       "    <tr>\n",
       "      <th>Kitasatospora</th>\n",
       "      <td>859</td>\n",
       "      <td>Index([ 9604, 42802, 57228, 49265, 13199, 1037...</td>\n",
       "      <td>[53, 46, 32, 30, 24, 23, 22, 22, 19, 18, 17, 1...</td>\n",
       "    </tr>\n",
       "    <tr>\n",
       "      <th>Streptococcus</th>\n",
       "      <td>782</td>\n",
       "      <td>Index([   37,  4762,  6957,  1986, 14723, 3390...</td>\n",
       "      <td>[6284, 4914, 4582, 3994, 3817, 3079, 3031, 206...</td>\n",
       "    </tr>\n",
       "    <tr>\n",
       "      <th>Rhodococcus</th>\n",
       "      <td>736</td>\n",
       "      <td>Index([51953,  9257, 32744, 17269, 10317,  710...</td>\n",
       "      <td>[365, 363, 266, 235, 202, 143, 121, 115, 98, 9...</td>\n",
       "    </tr>\n",
       "    <tr>\n",
       "      <th>Mycolicibacterium</th>\n",
       "      <td>724</td>\n",
       "      <td>Index([51953, 54664, 59999, 51460,  5897,  445...</td>\n",
       "      <td>[342, 276, 257, 179, 166, 127, 95, 92, 76, 63,...</td>\n",
       "    </tr>\n",
       "    <tr>\n",
       "      <th>Burkholderia</th>\n",
       "      <td>717</td>\n",
       "      <td>Index([ 6524,  6324, 60356, 16123,  7891,  793...</td>\n",
       "      <td>[3027, 2374, 1733, 1732, 1708, 1701, 1670, 166...</td>\n",
       "    </tr>\n",
       "  </tbody>\n",
       "</table>\n",
       "</div>"
      ],
      "text/plain": [
       "                  gcf_count_unique  \\\n",
       "Streptomyces                  8703   \n",
       "Pseudomonas_E                 1517   \n",
       "Nocardia                      1421   \n",
       "Micromonospora                1089   \n",
       "Amycolatopsis                  964   \n",
       "Mycobacterium                  862   \n",
       "Kitasatospora                  859   \n",
       "Streptococcus                  782   \n",
       "Rhodococcus                    736   \n",
       "Mycolicibacterium              724   \n",
       "Burkholderia                   717   \n",
       "\n",
       "                                                           gcf_index  \\\n",
       "Streptomyces       Index([57228, 49265, 45969, 42802,   883,  925...   \n",
       "Pseudomonas_E      Index([25095, 22671, 37850, 58987,  9257, 2787...   \n",
       "Nocardia           Index([51953,  9257, 32744, 17269, 57228, 5000...   \n",
       "Micromonospora     Index([49696, 57228, 40767, 12206, 20197, 2830...   \n",
       "Amycolatopsis      Index([57228,  9131,  5897,     0, 56542, 4926...   \n",
       "Mycobacterium      Index([42326, 43972, 64462, 58399, 61011, 6144...   \n",
       "Kitasatospora      Index([ 9604, 42802, 57228, 49265, 13199, 1037...   \n",
       "Streptococcus      Index([   37,  4762,  6957,  1986, 14723, 3390...   \n",
       "Rhodococcus        Index([51953,  9257, 32744, 17269, 10317,  710...   \n",
       "Mycolicibacterium  Index([51953, 54664, 59999, 51460,  5897,  445...   \n",
       "Burkholderia       Index([ 6524,  6324, 60356, 16123,  7891,  793...   \n",
       "\n",
       "                                                           gcf_count  \n",
       "Streptomyces       [1061, 766, 682, 654, 591, 534, 507, 491, 443,...  \n",
       "Pseudomonas_E      [4282, 2073, 2048, 1498, 1445, 1395, 1330, 120...  \n",
       "Nocardia           [173, 128, 76, 62, 60, 55, 54, 53, 48, 47, 46,...  \n",
       "Micromonospora     [215, 182, 152, 108, 88, 87, 86, 85, 81, 77, 7...  \n",
       "Amycolatopsis      [64, 52, 38, 35, 34, 33, 30, 30, 30, 29, 29, 2...  \n",
       "Mycobacterium      [6586, 6578, 6498, 6489, 6482, 6328, 6266, 598...  \n",
       "Kitasatospora      [53, 46, 32, 30, 24, 23, 22, 22, 19, 18, 17, 1...  \n",
       "Streptococcus      [6284, 4914, 4582, 3994, 3817, 3079, 3031, 206...  \n",
       "Rhodococcus        [365, 363, 266, 235, 202, 143, 121, 115, 98, 9...  \n",
       "Mycolicibacterium  [342, 276, 257, 179, 166, 127, 95, 92, 76, 63,...  \n",
       "Burkholderia       [3027, 2374, 1733, 1732, 1708, 1701, 1670, 166...  "
      ]
     },
     "execution_count": 77,
     "metadata": {},
     "output_type": "execute_result"
    }
   ],
   "source": [
    "df_t_sorted[1:12]"
   ]
  },
  {
   "cell_type": "markdown",
   "id": "b2c7c600cc2e05e3",
   "metadata": {
    "collapsed": false,
    "jupyter": {
     "outputs_hidden": false
    }
   },
   "source": [
    "# END OF ADDITIONAL EFFORTS"
   ]
  },
  {
   "cell_type": "code",
   "execution_count": null,
   "id": "1844f796-a692-4ee4-81a2-eff8f1e05074",
   "metadata": {},
   "outputs": [],
   "source": [
    "# thresholds_4_gcfs: np.ndarray = np.array(STable2.gcf_id.unique())\n",
    "# thresholds_5_gcfs: np.ndarray = np.array(STable3.gcf_id.unique())\n",
    "# thresholds_6_gcfs: np.ndarray = np.array(STable4.gcf_id.unique())\n",
    "# thresholds_7_gcfs: np.ndarray = np.array(STable5.gcf_id.unique())\n",
    "# bgc_ids: DataFrame = STable1.bgc_ids.str.split(\",\", expand=True)\n",
    "# bgc_ids = (bgc_ids.apply(pd.to_numeric, downcast=\"unsigned\"))\n",
    "# bgc_ids[[\"dataset_name\", \"AccNo\", \"taxonomy\"]] = STable1[[\"dataset_name\", \"AccNo\", \"taxonomy\"]]\n",
    "# STable2[\"bgc_id\"] = STable2[\"bgc_id\"].astype(np.int64)\n",
    "# STable2.index = STable2[\"bgc_id\"]\n",
    "# STable2[\"taxonomy\"] = \"\"\n",
    "# from pandarallel import pandarallel\n",
    "# import os\n",
    "# pandarallel.initialize(nb_workers=os.cpu_count())\n",
    "# def add_taxonomy_to_table(gcfs_array: np.ndarray, stable: DataFrame) -> None:\n",
    "#     # print(type(gcfs_array))\n",
    "#     # print(gcfs_array[5])\n",
    "#     for gcf in gcfs_array:\n",
    "#         # print(f\"gcf{gcf}\\n\")\n",
    "#         bgc_ids_of_gcf: np.ndarray = np.array(STable2[STable2.gcf_id == gcf][\"bgc_id\"])\n",
    "#         for bgc_id in bgc_ids_of_gcf:\n",
    "#             # print(f\"bgc_id{bgc_id}\\n\")\n",
    "#             # print(f\"type(bgc_id{type(bgc_id)}\\n\")\n",
    "#             bgc_tax = bgc_ids[bgc_ids.eq(bgc_id).any(axis=\"columns\")][\"taxonomy\"].iloc[0]\n",
    "#             stable.loc[bgc_id, \"taxonomy\"] = bgc_tax\n",
    "#add_taxonomy_to_table = np.vectorize(add_taxonomy_to_table)\n",
    "\n",
    "#add_taxonomy_to_table(gcfs_array = thresholds_4_gcfs[-10:], stable = STable2)"
   ]
  }
 ],
 "metadata": {
  "kernelspec": {
   "display_name": "Python 3 (ipykernel)",
   "language": "python",
   "name": "python3"
  },
  "language_info": {
   "codemirror_mode": {
    "name": "ipython",
    "version": 3
   },
   "file_extension": ".py",
   "mimetype": "text/x-python",
   "name": "python",
   "nbconvert_exporter": "python",
   "pygments_lexer": "ipython3",
   "version": "3.9.18"
  },
  "widgets": {
   "application/vnd.jupyter.widget-state+json": {
    "state": {},
    "version_major": 2,
    "version_minor": 0
   }
  }
 },
 "nbformat": 4,
 "nbformat_minor": 5
}
